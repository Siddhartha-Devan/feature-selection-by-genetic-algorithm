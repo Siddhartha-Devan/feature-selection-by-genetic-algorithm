{
 "cells": [
  {
   "cell_type": "code",
   "execution_count": 1,
   "id": "b62c7b61",
   "metadata": {},
   "outputs": [],
   "source": [
    "import pandas as pd\n",
    "import numpy as np\n",
    "import matplotlib.pyplot as plt\n",
    "import seaborn as sns\n",
    "\n",
    "from sklearn.model_selection import train_test_split\n",
    "from sklearn.ensemble import RandomForestClassifier as rf\n",
    "from sklearn.metrics import accuracy_score\n",
    "\n",
    "import random"
   ]
  },
  {
   "cell_type": "code",
   "execution_count": 41,
   "id": "73b85d35",
   "metadata": {},
   "outputs": [],
   "source": [
    "dataset = pd.read_csv(r\"C:\\Users\\Siddhartha Devan V\\Downloads\\diabetes.csv\")"
   ]
  },
  {
   "cell_type": "code",
   "execution_count": 42,
   "id": "f2d5db12",
   "metadata": {},
   "outputs": [
    {
     "data": {
      "text/html": [
       "<div>\n",
       "<style scoped>\n",
       "    .dataframe tbody tr th:only-of-type {\n",
       "        vertical-align: middle;\n",
       "    }\n",
       "\n",
       "    .dataframe tbody tr th {\n",
       "        vertical-align: top;\n",
       "    }\n",
       "\n",
       "    .dataframe thead th {\n",
       "        text-align: right;\n",
       "    }\n",
       "</style>\n",
       "<table border=\"1\" class=\"dataframe\">\n",
       "  <thead>\n",
       "    <tr style=\"text-align: right;\">\n",
       "      <th></th>\n",
       "      <th>Pregnancies</th>\n",
       "      <th>Glucose</th>\n",
       "      <th>BloodPressure</th>\n",
       "      <th>SkinThickness</th>\n",
       "      <th>Insulin</th>\n",
       "      <th>BMI</th>\n",
       "      <th>DiabetesPedigreeFunction</th>\n",
       "      <th>Age</th>\n",
       "      <th>Outcome</th>\n",
       "    </tr>\n",
       "  </thead>\n",
       "  <tbody>\n",
       "    <tr>\n",
       "      <th>0</th>\n",
       "      <td>6</td>\n",
       "      <td>148</td>\n",
       "      <td>72</td>\n",
       "      <td>35</td>\n",
       "      <td>0</td>\n",
       "      <td>33.6</td>\n",
       "      <td>0.627</td>\n",
       "      <td>50</td>\n",
       "      <td>1</td>\n",
       "    </tr>\n",
       "    <tr>\n",
       "      <th>1</th>\n",
       "      <td>1</td>\n",
       "      <td>85</td>\n",
       "      <td>66</td>\n",
       "      <td>29</td>\n",
       "      <td>0</td>\n",
       "      <td>26.6</td>\n",
       "      <td>0.351</td>\n",
       "      <td>31</td>\n",
       "      <td>0</td>\n",
       "    </tr>\n",
       "    <tr>\n",
       "      <th>2</th>\n",
       "      <td>8</td>\n",
       "      <td>183</td>\n",
       "      <td>64</td>\n",
       "      <td>0</td>\n",
       "      <td>0</td>\n",
       "      <td>23.3</td>\n",
       "      <td>0.672</td>\n",
       "      <td>32</td>\n",
       "      <td>1</td>\n",
       "    </tr>\n",
       "    <tr>\n",
       "      <th>3</th>\n",
       "      <td>1</td>\n",
       "      <td>89</td>\n",
       "      <td>66</td>\n",
       "      <td>23</td>\n",
       "      <td>94</td>\n",
       "      <td>28.1</td>\n",
       "      <td>0.167</td>\n",
       "      <td>21</td>\n",
       "      <td>0</td>\n",
       "    </tr>\n",
       "    <tr>\n",
       "      <th>4</th>\n",
       "      <td>0</td>\n",
       "      <td>137</td>\n",
       "      <td>40</td>\n",
       "      <td>35</td>\n",
       "      <td>168</td>\n",
       "      <td>43.1</td>\n",
       "      <td>2.288</td>\n",
       "      <td>33</td>\n",
       "      <td>1</td>\n",
       "    </tr>\n",
       "  </tbody>\n",
       "</table>\n",
       "</div>"
      ],
      "text/plain": [
       "   Pregnancies  Glucose  BloodPressure  SkinThickness  Insulin   BMI  \\\n",
       "0            6      148             72             35        0  33.6   \n",
       "1            1       85             66             29        0  26.6   \n",
       "2            8      183             64              0        0  23.3   \n",
       "3            1       89             66             23       94  28.1   \n",
       "4            0      137             40             35      168  43.1   \n",
       "\n",
       "   DiabetesPedigreeFunction  Age  Outcome  \n",
       "0                     0.627   50        1  \n",
       "1                     0.351   31        0  \n",
       "2                     0.672   32        1  \n",
       "3                     0.167   21        0  \n",
       "4                     2.288   33        1  "
      ]
     },
     "execution_count": 42,
     "metadata": {},
     "output_type": "execute_result"
    }
   ],
   "source": [
    "dataset.head()"
   ]
  },
  {
   "cell_type": "code",
   "execution_count": 44,
   "id": "505235ec",
   "metadata": {},
   "outputs": [
    {
     "data": {
      "text/plain": [
       "0    500\n",
       "1    268\n",
       "Name: Outcome, dtype: int64"
      ]
     },
     "execution_count": 44,
     "metadata": {},
     "output_type": "execute_result"
    }
   ],
   "source": [
    "dataset.Outcome.value_counts()"
   ]
  },
  {
   "cell_type": "code",
   "execution_count": 45,
   "id": "306719a8",
   "metadata": {},
   "outputs": [
    {
     "name": "stdout",
     "output_type": "stream",
     "text": [
      "Index(['Pregnancies', 'Glucose', 'BloodPressure', 'SkinThickness', 'Insulin',\n",
      "       'BMI', 'DiabetesPedigreeFunction', 'Age', 'Outcome'],\n",
      "      dtype='object')\n"
     ]
    }
   ],
   "source": [
    "genes = dataset.columns\n",
    "print(genes)"
   ]
  },
  {
   "cell_type": "code",
   "execution_count": 46,
   "id": "5bdddca2",
   "metadata": {},
   "outputs": [],
   "source": [
    "dataset_1 = dataset[dataset[\"Outcome\"] == 1].sample(270, replace = True)\n",
    "dataset_0 = dataset[dataset[\"Outcome\"] == 0].sample(270)\n",
    "\n",
    "dataset_new = pd.concat((dataset_0, dataset_1), axis = \"rows\")"
   ]
  },
  {
   "cell_type": "code",
   "execution_count": 47,
   "id": "9abce57a",
   "metadata": {},
   "outputs": [],
   "source": [
    "X = dataset_new[['Pregnancies', 'Glucose', 'BloodPressure', 'SkinThickness', 'Insulin',\n",
    "       'BMI', 'DiabetesPedigreeFunction', 'Age']]\n",
    "\n",
    "Y = dataset_new['Outcome']\n"
   ]
  },
  {
   "cell_type": "code",
   "execution_count": 48,
   "id": "ce35603e",
   "metadata": {},
   "outputs": [
    {
     "data": {
      "text/plain": [
       "0    270\n",
       "1    270\n",
       "Name: Outcome, dtype: int64"
      ]
     },
     "execution_count": 48,
     "metadata": {},
     "output_type": "execute_result"
    }
   ],
   "source": [
    "Y.value_counts()"
   ]
  },
  {
   "cell_type": "code",
   "execution_count": 62,
   "id": "3decc27d",
   "metadata": {},
   "outputs": [],
   "source": [
    "class Gen_alg():\n",
    "    def __init__(self, X, Y):\n",
    "        self.features = X.columns\n",
    "        self.Y = Y\n",
    "        self.init_chrom = [0 for _ in range(len(X.columns))]\n",
    "        self.chrom_len = len(X.columns)\n",
    "        print(\"initial chromosome = \", self.init_chrom)\n",
    "        self.X_train, self.X_test, self.Y_train, self.Y_test = train_test_split(X, Y, train_size = 0.75, random_state = 0, stratify = Y)\n",
    "        self.model = rf()\n",
    "        self.best_off_springs = []\n",
    "        \n",
    "        \"\"\" In the __init__ function we initialize all the necessary variablessuch as the chromosome model,  train and test dataetc\n",
    "        the parents list will contain the best child of every generation. The model is directly initialized as a random forest classifier\"\"\"\n",
    "        \n",
    "    def population_generator(self, pop_num  = 30):\n",
    "        self.pop_num = pop_num\n",
    "        self.population = []\n",
    "        \n",
    "        for _ in range(pop_num):\n",
    "            chumma_chrom = self.init_chrom.copy()\n",
    "            for i in range(len(chumma_chrom)):\n",
    "                chumma_chrom[i] = random.choice([0,1])\n",
    "            self.population.append(chumma_chrom)\n",
    "\n",
    "            \"\"\" this function uses the initial chromosome as the template and generates a number of individual chromosomes and appends\n",
    "            it to the population list. The alleles (0,1) are chosen randomly.\"\"\"\n",
    "            \n",
    "    def feature_selector(self, chromosome):\n",
    "#         print(\"chrome = \", chromosome)\n",
    "        self.chrom_features = []\n",
    "        for i in range(len(chromosome)):\n",
    "            if chromosome[i] == 1:\n",
    "                self.chrom_features.append(self.features[i])\n",
    "        return self.chrom_features\n",
    "        \"\"\"This function selects the features of the chromosome. That is a chromosome of length eight would mean that there are 8 indpendent variables.\n",
    "        if the gene of that particular atttriibute is 1, then the attribute is included and if it is 0, then it is omitted\"\"\"\n",
    "        \n",
    "    def fitness_func(self):\n",
    "        self.feature_list = []\n",
    "        self.fit_score = []\n",
    "        for i in self.population:\n",
    "            f = self.feature_selector(i)\n",
    "            self.feature_list.append([i, f])\n",
    "        \n",
    "        for i in self.feature_list:\n",
    "            chrom , feat = i\n",
    "            X_train_temp = self.X_train[feat]\n",
    "            X_test_temp = self.X_test[feat]\n",
    "            \n",
    "            self.model.fit(X_train_temp, self.Y_train)\n",
    "            Y_pred_temp = self.model.predict(X_test_temp)\n",
    "            self.fit_score.append(accuracy_score(Y_pred_temp, self.Y_test))\n",
    "    \n",
    "#         print(self.fit_score)\n",
    "        \n",
    "    \"\"\"fitness function measures the fitness of a particular chromosome. Here fitness is measured in terms of accuracy of the model\"\"\"\n",
    "    \n",
    "    def select_best_pair(self):\n",
    "        self.fitness_func()\n",
    "        self.selected_chroms = []\n",
    "        for i in range(10):\n",
    "            selected_sc = max(self.fit_score)\n",
    "            selected_ind = self.fit_score.index(selected_sc)\n",
    "            self.fit_score.pop(selected_ind)\n",
    "            self.selected = self.population.pop(selected_ind)\n",
    "            self.selected_chroms.append([self.selected, selected_sc])\n",
    "                \n",
    "        self.best_off_springs.append(self.selected_chroms[0])\n",
    "        \"\"\"out if the population, top 10 individuals are considered to have suurvived and are selected\"\"\"\n",
    "        \n",
    "        \n",
    "    def matter(self, n_child = 20):\n",
    "        self.population = []\n",
    "        for _ in range(n_child):\n",
    "            mom = random.choice(self.selected_chroms)[0]\n",
    "            dad = random.choice(self.selected_chroms)[0]\n",
    "            child = []\n",
    "            for i, j in zip(mom, dad):\n",
    "                child.append(random.choice([i,j]))\n",
    "            self.population.append(child)\n",
    "            \n",
    "        \"\"\"the selected fit individuals are allowed to reproduce by crossing over and they self.population list is overwritten with the newly generated children.\n",
    "            this process is done again and again to produce more generations. Eventually, since better offsprings areallowed to cross-over better chromosomes would be generated\"\"\"\n",
    "            \n",
    "    \n",
    "    def generator(self, n_gen = 10):\n",
    "        for _ in range(n_gen):\n",
    "            self.matter()\n",
    "            self.select_best_pair()\n",
    "        \n",
    "        for i in range(len(self.best_off_springs)):\n",
    "            print(\"gen = \", i)\n",
    "            print(\"best_off_spring of the generation is \", self.best_off_springs[i][0], self.best_off_springs[i][1])\n",
    "            print(\"==\"*30)\n",
    "            print(\"--\"*30)\n",
    "            "
   ]
  },
  {
   "cell_type": "code",
   "execution_count": 63,
   "id": "79a0878a",
   "metadata": {
    "scrolled": true
   },
   "outputs": [
    {
     "name": "stdout",
     "output_type": "stream",
     "text": [
      "initial chromosome =  [0, 0, 0, 0, 0, 0, 0, 0]\n",
      "gen =  0\n",
      "best_off_spring of the generation is  [0, 1, 1, 1, 0, 0, 1, 1] 0.837037037037037\n",
      "============================================================\n",
      "------------------------------------------------------------\n",
      "gen =  1\n",
      "best_off_spring of the generation is  [1, 1, 1, 1, 0, 0, 1, 1] 0.8222222222222222\n",
      "============================================================\n",
      "------------------------------------------------------------\n",
      "gen =  2\n",
      "best_off_spring of the generation is  [1, 1, 1, 1, 1, 1, 1, 1] 0.8296296296296296\n",
      "============================================================\n",
      "------------------------------------------------------------\n",
      "gen =  3\n",
      "best_off_spring of the generation is  [1, 1, 1, 1, 1, 1, 0, 1] 0.8222222222222222\n",
      "============================================================\n",
      "------------------------------------------------------------\n",
      "gen =  4\n",
      "best_off_spring of the generation is  [1, 1, 1, 1, 0, 0, 1, 1] 0.8444444444444444\n",
      "============================================================\n",
      "------------------------------------------------------------\n",
      "gen =  5\n",
      "best_off_spring of the generation is  [1, 1, 1, 1, 0, 0, 1, 1] 0.837037037037037\n",
      "============================================================\n",
      "------------------------------------------------------------\n",
      "gen =  6\n",
      "best_off_spring of the generation is  [1, 1, 1, 1, 0, 0, 1, 1] 0.837037037037037\n",
      "============================================================\n",
      "------------------------------------------------------------\n",
      "gen =  7\n",
      "best_off_spring of the generation is  [1, 1, 1, 1, 0, 0, 1, 1] 0.837037037037037\n",
      "============================================================\n",
      "------------------------------------------------------------\n",
      "gen =  8\n",
      "best_off_spring of the generation is  [1, 1, 1, 1, 0, 0, 1, 1] 0.8296296296296296\n",
      "============================================================\n",
      "------------------------------------------------------------\n",
      "gen =  9\n",
      "best_off_spring of the generation is  [1, 1, 1, 1, 0, 0, 1, 1] 0.8444444444444444\n",
      "============================================================\n",
      "------------------------------------------------------------\n",
      "gen =  10\n",
      "best_off_spring of the generation is  [1, 1, 1, 1, 0, 0, 1, 1] 0.837037037037037\n",
      "============================================================\n",
      "------------------------------------------------------------\n"
     ]
    }
   ],
   "source": [
    "obj = Gen_alg(X, Y)\n",
    "obj.population_generator()\n",
    "obj.select_best_pair()\n",
    "obj.generator()"
   ]
  },
  {
   "cell_type": "code",
   "execution_count": null,
   "id": "322830d0",
   "metadata": {},
   "outputs": [],
   "source": []
  },
  {
   "cell_type": "code",
   "execution_count": null,
   "id": "61f8d90b",
   "metadata": {},
   "outputs": [],
   "source": []
  },
  {
   "cell_type": "code",
   "execution_count": null,
   "id": "27d3190a",
   "metadata": {},
   "outputs": [],
   "source": []
  }
 ],
 "metadata": {
  "kernelspec": {
   "display_name": "Python 3 (ipykernel)",
   "language": "python",
   "name": "python3"
  },
  "language_info": {
   "codemirror_mode": {
    "name": "ipython",
    "version": 3
   },
   "file_extension": ".py",
   "mimetype": "text/x-python",
   "name": "python",
   "nbconvert_exporter": "python",
   "pygments_lexer": "ipython3",
   "version": "3.9.7"
  }
 },
 "nbformat": 4,
 "nbformat_minor": 5
}
